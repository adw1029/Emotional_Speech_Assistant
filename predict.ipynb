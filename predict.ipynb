{
  "nbformat": 4,
  "nbformat_minor": 0,
  "metadata": {
    "colab": {
      "provenance": []
    },
    "kernelspec": {
      "name": "python3",
      "display_name": "Python 3"
    },
    "language_info": {
      "name": "python"
    }
  },
  "cells": [
    {
      "cell_type": "code",
      "source": [
        "!pip install resampy"
      ],
      "metadata": {
        "colab": {
          "base_uri": "https://localhost:8080/"
        },
        "id": "WLzwrPdC2y30",
        "outputId": "07c83c23-2f7a-475c-919b-e27582aec45e"
      },
      "execution_count": null,
      "outputs": [
        {
          "output_type": "stream",
          "name": "stdout",
          "text": [
            "Requirement already satisfied: resampy in /usr/local/lib/python3.10/dist-packages (0.4.3)\n",
            "Requirement already satisfied: numpy>=1.17 in /usr/local/lib/python3.10/dist-packages (from resampy) (1.25.2)\n",
            "Requirement already satisfied: numba>=0.53 in /usr/local/lib/python3.10/dist-packages (from resampy) (0.58.1)\n",
            "Requirement already satisfied: llvmlite<0.42,>=0.41.0dev0 in /usr/local/lib/python3.10/dist-packages (from numba>=0.53->resampy) (0.41.1)\n"
          ]
        }
      ]
    },
    {
      "cell_type": "code",
      "execution_count": null,
      "metadata": {
        "id": "ws4mb_X2IGXo"
      },
      "outputs": [],
      "source": [
        "\n",
        "# import matplotlib.pyplot as plt\n",
        "# import tensorflow as tf\n",
        "# from matplotlib.pyplot import specgram\n",
        "# import keras\n",
        "# from keras.preprocessing import sequence\n",
        "# from keras.models import Sequential\n",
        "# from keras.layers import Dense, Embedding\n",
        "# from keras.layers import LSTM\n",
        "# from keras.preprocessing.text import Tokenizer\n",
        "# from keras.preprocessing.sequence import pad_sequences\n",
        "# from keras.utils import to_categorical\n",
        "# from keras.layers import Input, Flatten, Dropout, Activation\n",
        "# from keras.layers import Conv1D, MaxPooling1D, AveragePooling1D\n",
        "# from keras.models import Model\n",
        "# from keras.callbacks import ModelCheckpoint\n",
        "# from sklearn.metrics import confusion_matrix\n",
        "# from tqdm import tqdm\n",
        "import os\n",
        "import pandas as pd\n",
        "# import librosa\n",
        "# import glob\n",
        "import torch\n",
        "import torchaudio\n",
        "from transformers import Wav2Vec2Processor, Wav2Vec2ForSequenceClassification\n",
        "\n",
        "import librosa\n",
        "import librosa.display\n",
        "import numpy as np"
      ]
    },
    {
      "cell_type": "code",
      "source": [
        "\n",
        "from google.colab import drive\n",
        "drive.mount('/content/drive')"
      ],
      "metadata": {
        "colab": {
          "base_uri": "https://localhost:8080/"
        },
        "id": "4vGJHkYQIW1m",
        "outputId": "11d5aa58-547f-42ae-f239-723d5e7d3956"
      },
      "execution_count": null,
      "outputs": [
        {
          "output_type": "stream",
          "name": "stdout",
          "text": [
            "Drive already mounted at /content/drive; to attempt to forcibly remount, call drive.mount(\"/content/drive\", force_remount=True).\n"
          ]
        }
      ]
    },
    {
      "cell_type": "code",
      "source": [
        "raw_data_path = '/content/drive/MyDrive/CSCI-534/RawData/'"
      ],
      "metadata": {
        "id": "G9s3MypLIr6A"
      },
      "execution_count": null,
      "outputs": []
    },
    {
      "cell_type": "code",
      "source": [
        "from keras.models import model_from_json\n",
        "json_file = open('/content/drive/MyDrive/CSCI-534/Emotion_Voice_Detection_Model.json', 'r')\n",
        "loaded_model_json = json_file.read()\n",
        "json_file.close()\n",
        "loaded_model = model_from_json(loaded_model_json)\n",
        "# load weights into new model\n",
        "loaded_model.load_weights(\"/content/drive/MyDrive/CSCI-534/Emotion_Voice_Detection_Model.h5\")"
      ],
      "metadata": {
        "id": "Ee1Z9FUwIy0N"
      },
      "execution_count": null,
      "outputs": []
    },
    {
      "cell_type": "code",
      "source": [
        "sample_video_file_path = \"/content/drive/MyDrive/CSCI-534/RawData/03-02-01-01-01-01-01.wav\"\n",
        "# data, sampling_rate = librosa.load(sample_video_file_path)"
      ],
      "metadata": {
        "id": "CNS9JnFCMW5F"
      },
      "execution_count": null,
      "outputs": []
    },
    {
      "cell_type": "code",
      "source": [
        "def load_audio(file_path, target_sr=16000):\n",
        "    # Load the file with librosa, which automatically resamples to the target_sr\n",
        "    audio, sample_rate = librosa.load(file_path, res_type='kaiser_fast',duration=2.5,sr=22050*2,offset=0.5)\n",
        "    return audio"
      ],
      "metadata": {
        "id": "nXjujcH61DKG"
      },
      "execution_count": null,
      "outputs": []
    },
    {
      "cell_type": "code",
      "source": [
        "import tensorflow_hub as hub\n",
        "yamnet_model_handle = 'https://tfhub.dev/google/yamnet/1'\n",
        "yamnet_model = hub.load(yamnet_model_handle)\n",
        "waveform = load_audio(sample_video_file_path)\n",
        "scores, embeddings, spectrogram = yamnet_model(waveform)\n",
        "features = np.mean(embeddings, axis=0)\n",
        "df = pd.DataFrame(columns=['feature'])\n",
        "df.loc[0] = [features]"
      ],
      "metadata": {
        "id": "1c8IICXu2Dpg"
      },
      "execution_count": null,
      "outputs": []
    },
    {
      "cell_type": "code",
      "source": [
        "df3 = pd.DataFrame(df['feature'].values.tolist())"
      ],
      "metadata": {
        "id": "6NFBKdAy4Cva"
      },
      "execution_count": null,
      "outputs": []
    },
    {
      "cell_type": "code",
      "source": [
        "type(df3)\n",
        "# X = np.array(df3)\n",
        "X = np.expand_dims(np.array(df3), axis=2)"
      ],
      "metadata": {
        "id": "TtWHBnki4Ygi"
      },
      "execution_count": null,
      "outputs": []
    },
    {
      "cell_type": "code",
      "source": [
        "preds = loaded_model.predict(X, verbose=1)"
      ],
      "metadata": {
        "colab": {
          "base_uri": "https://localhost:8080/"
        },
        "id": "l53OxzVWMQ7h",
        "outputId": "b13ad7cb-48c4-4eac-edda-a91fe3553e13"
      },
      "execution_count": null,
      "outputs": [
        {
          "output_type": "stream",
          "name": "stdout",
          "text": [
            "1/1 [==============================] - 1s 814ms/step\n"
          ]
        }
      ]
    },
    {
      "cell_type": "code",
      "source": [
        "preds"
      ],
      "metadata": {
        "colab": {
          "base_uri": "https://localhost:8080/"
        },
        "id": "3hTVTlDz5tkl",
        "outputId": "71feeea2-d4dc-4a25-db6d-2927fb1a6035"
      },
      "execution_count": null,
      "outputs": [
        {
          "output_type": "execute_result",
          "data": {
            "text/plain": [
              "array([[1.2783718e-04, 4.7711807e-04, 7.5004027e-05, 4.5732140e-05,\n",
              "        1.3415363e-04, 7.6861060e-03, 2.7105597e-01, 4.5390546e-02,\n",
              "        8.3671436e-02, 5.9133613e-01]], dtype=float32)"
            ]
          },
          "metadata": {},
          "execution_count": 30
        }
      ]
    },
    {
      "cell_type": "code",
      "source": [
        "id2label = ['female_angry', 'female_calm', 'female_fearful', 'female_happy',\n",
        "       'female_sad', 'male_angry', 'male_calm', 'male_fearful',\n",
        "       'male_happy', 'male_sad']"
      ],
      "metadata": {
        "id": "SMtJVn745uGR"
      },
      "execution_count": null,
      "outputs": []
    },
    {
      "cell_type": "code",
      "source": [],
      "metadata": {
        "id": "-ocIGtz39jip"
      },
      "execution_count": null,
      "outputs": []
    }
  ]
}